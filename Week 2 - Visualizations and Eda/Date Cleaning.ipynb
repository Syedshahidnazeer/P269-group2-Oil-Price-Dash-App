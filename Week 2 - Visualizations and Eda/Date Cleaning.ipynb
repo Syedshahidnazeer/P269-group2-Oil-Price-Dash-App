{
 "cells": [
  {
   "cell_type": "code",
   "execution_count": 11,
   "metadata": {},
   "outputs": [],
   "source": [
    "import pandas as pd \n",
    "import numpy as np\n",
    "import matplotlib.pyplot as plt\n",
    "from datetime import datetime\n",
    "import calendar\n",
    "import seaborn as sns\n",
    "import warnings\n",
    "warnings.filterwarnings('ignore')"
   ]
  },
  {
   "cell_type": "code",
   "execution_count": 48,
   "metadata": {},
   "outputs": [],
   "source": [
    "# load the data set using pandas\n",
    "data=pd.read_csv('E:\\Excelr-P269-Internship-Project-Group2-OIl-Price-Prediction-And-Forecasting-Using-Python\\Dataset\\oil_prices_yahoo1.csv')"
   ]
  },
  {
   "cell_type": "code",
   "execution_count": 50,
   "metadata": {},
   "outputs": [],
   "source": [
    "# covertnig the date column to datetime using pandas\n",
    "data['Date'] = pd.to_datetime(data['Date'], errors='coerce')\n",
    "\n",
    "# creating a data frame using pandas\n",
    "df=pd.DataFrame(data)\n",
    "\n",
    "# renaming the column to price\n",
    "df.rename(columns = {'Close':'Price'}, inplace = True)"
   ]
  },
  {
   "cell_type": "code",
   "execution_count": 14,
   "metadata": {},
   "outputs": [
    {
     "name": "stdout",
     "output_type": "stream",
     "text": [
      "        Date      Price\n",
      "0 2000-08-23  32.049999\n",
      "1 2000-08-24  31.629999\n",
      "2 2000-08-25  32.049999\n",
      "3 2000-08-28  32.869999\n",
      "4 2000-08-29  32.720001\n",
      "           Date      Price\n",
      "5746 2023-07-17  74.150002\n",
      "5747 2023-07-18  75.750000\n",
      "5748 2023-07-19  75.349998\n",
      "5749 2023-07-20  75.629997\n",
      "5750 2023-07-21  77.070000\n"
     ]
    }
   ],
   "source": [
    "print(df.head())\n",
    "print(df.tail())"
   ]
  },
  {
   "cell_type": "code",
   "execution_count": 15,
   "metadata": {},
   "outputs": [
    {
     "name": "stdout",
     "output_type": "stream",
     "text": [
      "                      Date      Price\n",
      "Date                                 \n",
      "2004-06-30 938  2004-06-01  42.330002\n",
      "2014-11-30 3578 2014-11-28  66.150002\n",
      "2019-05-31 4708 2019-05-31  53.500000\n",
      "2020-04-30 4931 2020-04-20 -37.630001\n",
      "2021-01-31 5110 2021-01-04  47.619999\n"
     ]
    }
   ],
   "source": [
    "import pandas as pd\n",
    "from scipy import stats\n",
    "\n",
    "# Convert the date column to a datetime object\n",
    "df['Date'] = pd.to_datetime(df['Date'])\n",
    "\n",
    "# Group the data by month\n",
    "grouped = df.groupby(pd.Grouper(key='Date', freq='M'))\n",
    "\n",
    "# Define a function to detect outliers within each group\n",
    "def detect_outliers(group):\n",
    "    z_scores = stats.zscore(group['Price'])\n",
    "    outliers = group[(z_scores < -3) | (z_scores > 3)]\n",
    "    return outliers\n",
    "\n",
    "# Apply the function to each group\n",
    "outliers = grouped.apply(detect_outliers)\n",
    "\n",
    "# View the outliers\n",
    "print(outliers)\n"
   ]
  },
  {
   "cell_type": "code",
   "execution_count": 16,
   "metadata": {},
   "outputs": [
    {
     "name": "stdout",
     "output_type": "stream",
     "text": [
      "[   0 1910    0 1911    0 1912    0 1913    0 1914    0 1915    0 1916\n",
      "    0 1917    0 1918    0 1919    0 1920    0 1922    0 1923    0 1924\n",
      "    0 1925    0 1926    0 1927    0 1928    0 1929    0 1930    0 1931\n",
      "    0 1932    0 1933    0 1934    0 1935    0 1936    0 1937    0 1938\n",
      "    0 1939    0 1940    0 1941    0 1942    0 1943    0 1944    0 1945\n",
      "    0 1946    0 1947    0 1948    0 1949    0 1950    0 1951    0 1952\n",
      "    0 1953    0 1954    0 1955    0 1956    0 1957    0 1958    0 1959\n",
      "    0 1960    0 1961    0 1962    0 1963    0 1964    0 1965    0 1966\n",
      "    0 1967    0 1968    0 1969    0 1970    0 1971    0 1972    0 1973\n",
      "    0 1974    0 1975    0 1976    0 1977    0 1978    0 1979    0 1980\n",
      "    0 1981    0 1982    0 1983    0 1984    0 1985    0 1986    0 1987\n",
      "    0 1988    0 1989    0 1990    0 1991    0 1992    0 1993    0 1994\n",
      "    0 1995    0 1996    0 1997    0 1998    0 1999    0 2000    0 2001\n",
      "    0 2002    0 2003    0 2004    0 2005    0 2006    0 2007    0 2008\n",
      "    0 2009    0 2010    0 2019    0 2020    0 2021    0 2022    0 2023\n",
      "    0 2024    0 2045    0 2046    0 2053    0 2054    0 2056    0 2057\n",
      "    0 2058    0 2059    0 2060    0 2061    0 2062    0 2063    0 2064\n",
      "    0 2065    0 2066    0 2067    0 2068    0 2069    0 2070    0 2071\n",
      "    0 2072    0 2073    0 2074    0 2075    0 2076    0 2077    0 2078\n",
      "    0 2079    0 2080    0 2081    0 2082    0 2083    0 2084    0 2085\n",
      "    0 2086    0 2087    0 2088    0 2089    0 2090    0 2091    0 2092\n",
      "    0 2093    0 2094    0 2095    0 2096    0 2097    0 2098    0 2099\n",
      "    0 2100    0 2101    0 2102    0 2103    0 2104    0 2105    0 2106\n",
      "    0 2107    0 2108    0 2109    0 2110    0 2111    0 2112    0 2113\n",
      "    0 2114    0 2115    0 2116    0 2117    0 2118    0 2119    0 2120\n",
      "    0 2121    0 2122    0 2123    0 2124    0 2125    0 2126    0 2127\n",
      "    0 2128    0 2129    0 2130    0 2131    0 2132    0 2133    0 2134\n",
      "    0 2135    0 2136    0 2137    0 2138    0 2139    0 2140    0 2141\n",
      "    0 2142    0 2144    0 2150    0 2151    0 2152    0 2156    0 2157\n",
      "    0 2160    0 2161    0 2164    0 2165    0 2166    0 2661    0 2662\n",
      "    0 2663    0 2670    0 2671    0 2672    0 2673    0 2674    0 2675\n",
      "    0 2676    0 2677    0 2678    0 2785    0 3602    0 3603    0 3604\n",
      "    0 3605    0 3606    0 3607    0 3608    0 3609    0 3610    0 3611\n",
      "    0 3612    0 3613    0 3614    0 3615    0 3616    0 3617    0 3618\n",
      "    0 3619    0 3620    0 3651    0 4600    0 4908    0 4909    0 4910\n",
      "    0 4911    0 4912    0 4913    0 4914    0 4915    0 4916    0 4917\n",
      "    0 4918    0 4919    0 4920    0 4922    0 4923    0 4924    0 4925\n",
      "    0 4926    0 4927    0 4928    0 4929    0 4930    0 4931    0 4932\n",
      "    0 4933    0 4934    0 4935    0 4936    0 4937    0 4938    0 4939\n",
      "    0 4940    0 4941    0 4942    0 4943    0 4944    0 4945    0 4946\n",
      "    0 4947    0 4948    0 5402    0 5403    0 5404    0 5405    0 5406\n",
      "    0 5407    0 5409    0 5415    0 5416    0 5417    0 5418    0 5419\n",
      "    0 5422    0 5434    0 5446    0 5447    0 5448    0 5453    0 5454\n",
      "    0 5455    0 5456    0 5457    0 5458    0 5459    0 5460    0 5461\n",
      "    0 5462    0 5463    0 5464    0 5465    0 5466    0 5467    0 5468\n",
      "    0 5469    0 5470    0 5471    0 5472    0 5473    0 5474    0 5475\n",
      "    0 5476    0 5477    0 5478    0 5481    0 5482    0 5483    0 5484\n",
      "    0 5486]\n"
     ]
    }
   ],
   "source": [
    "import pandas as pd\n",
    "from tsmoothie.smoother import *\n",
    "from tsmoothie.utils_func import create_windows\n",
    "\n",
    "# create a smoother instance\n",
    "smoother = LowessSmoother(smooth_fraction=0.1, iterations=1)\n",
    "\n",
    "# operate the smoothing on the 'Price' column\n",
    "smoother.smooth(df['Price'])\n",
    "\n",
    "# generate intervals\n",
    "low, up = smoother.get_intervals('prediction_interval')\n",
    "\n",
    "# find the indexes of the outliers\n",
    "outliers = np.argwhere((df['Price'].values < low) | (df['Price'].values > up)).ravel()\n",
    "\n",
    "# print the outliers\n",
    "print(outliers)\n"
   ]
  },
  {
   "cell_type": "code",
   "execution_count": 17,
   "metadata": {},
   "outputs": [
    {
     "name": "stdout",
     "output_type": "stream",
     "text": [
      "           Date       Price\n",
      "1963 2008-07-01  140.970001\n",
      "1964 2008-07-02  143.570007\n",
      "1965 2008-07-03  145.289993\n",
      "1966 2008-07-07  141.369995\n",
      "1969 2008-07-10  141.649994\n",
      "1970 2008-07-11  145.080002\n",
      "1971 2008-07-14  145.179993\n",
      "4931 2020-04-20  -37.630001\n"
     ]
    }
   ],
   "source": [
    "import pandas as pd\n",
    "import numpy as np\n",
    "\n",
    "\n",
    "# calculate the upper and lower limits for capping\n",
    "upper_limit = df['Price'].mean() + 3 * df['Price'].std()\n",
    "lower_limit = df['Price'].mean() - 3 * df['Price'].std()\n",
    "\n",
    "# find the outliers\n",
    "outliers = df[(df['Price'] > upper_limit) | (df['Price'] < lower_limit)]\n",
    "\n",
    "# print the outliers\n",
    "print(outliers)\n",
    "\n",
    "# apply capping to the 'Price' column\n",
    "df['Price'] = np.where(df['Price'] > upper_limit, upper_limit, df['Price'])\n",
    "df['Price'] = np.where(df['Price'] < lower_limit, lower_limit, df['Price'])\n",
    "\n"
   ]
  },
  {
   "cell_type": "code",
   "execution_count": 21,
   "metadata": {},
   "outputs": [
    {
     "name": "stdout",
     "output_type": "stream",
     "text": [
      "           Date       Price\n",
      "1964 2008-07-02  143.570007\n",
      "1965 2008-07-03  145.289993\n",
      "1970 2008-07-11  145.080002\n",
      "1971 2008-07-14  145.179993\n",
      "4931 2020-04-20  -37.630001\n"
     ]
    }
   ],
   "source": [
    "# Using IQR Method\n",
    "\n",
    "import pandas as pd\n",
    "\n",
    "# calculate the IQR\n",
    "Q1 = df['Price'].quantile(0.25)\n",
    "Q3 = df['Price'].quantile(0.75)\n",
    "IQR = Q3 - Q1\n",
    "\n",
    "# define the upper and lower bounds for outliers\n",
    "upper_bound = Q3 + 1.5 * IQR\n",
    "lower_bound = Q1 - 1.5 * IQR\n",
    "\n",
    "# find the outliers\n",
    "outliers = df[(df['Price'] > upper_bound) | (df['Price'] < lower_bound)]\n",
    "print(outliers)\n",
    "\n",
    "# save the outliers in a new DataFrame\n",
    "outliers_df = pd.DataFrame(outliers)\n",
    "\n",
    "# remove the outliers from the original DataFrame\n",
    "df_IQR = df[(df['Price'] <= upper_bound) & (df['Price'] >= lower_bound)]\n"
   ]
  },
  {
   "cell_type": "code",
   "execution_count": 34,
   "metadata": {},
   "outputs": [
    {
     "name": "stdout",
     "output_type": "stream",
     "text": [
      "Int64Index([1963, 1964, 1965, 1966, 1969, 1970, 1971, 4931], dtype='int64')\n"
     ]
    }
   ],
   "source": [
    "import pandas as pd\n",
    "from scipy import stats\n",
    "\n",
    "# create a copy of the original DataFrame\n",
    "new_df = df.copy()\n",
    "\n",
    "# calculate the Z-scores\n",
    "z_scores = stats.zscore(new_df['Price'])\n",
    "\n",
    "# define the threshold for outliers\n",
    "threshold = 3\n",
    "\n",
    "# find the indexes of the outliers\n",
    "outlier_indexes = new_df[(z_scores > threshold) | (z_scores < -threshold)].index\n",
    "print(outlier_indexes)\n",
    "\n",
    "# recode the outliers to the mean of the data in the new DataFrame\n",
    "new_df.loc[outlier_indexes, 'Price'] = new_df['Price'].median()\n"
   ]
  },
  {
   "cell_type": "code",
   "execution_count": 38,
   "metadata": {},
   "outputs": [
    {
     "name": "stdout",
     "output_type": "stream",
     "text": [
      "           Date       Price\n",
      "1961 2008-06-27  140.210007\n",
      "1962 2008-06-30  140.000000\n"
     ]
    }
   ],
   "source": [
    "import pandas as pd\n",
    "from scipy import stats\n",
    "\n",
    "# calculate the Z-scores\n",
    "z_scores = stats.zscore(new_df['Price'])\n",
    "\n",
    "# define the threshold for outliers\n",
    "threshold = 3\n",
    "\n",
    "# find the outliers\n",
    "outliers = new_df[(z_scores > threshold) | (z_scores < -threshold)]\n",
    "\n",
    "# save the outliers in a new DataFrame\n",
    "outliers_df = pd.DataFrame(outliers)\n",
    "\n",
    "print(outliers_df)\n"
   ]
  },
  {
   "cell_type": "code",
   "execution_count": 42,
   "metadata": {},
   "outputs": [],
   "source": [
    "import pandas as pd\n",
    "from sklearn.ensemble import IsolationForest\n",
    "\n",
    "# create a copy of the original DataFrame\n",
    "new_dfi = df.copy()\n",
    "\n",
    "# create an Isolation Forest model\n",
    "iso_forest = IsolationForest(contamination=0.1)\n",
    "\n",
    "# fit the model to the 'Price' column\n",
    "iso_forest.fit(new_dfi[['Price']])\n",
    "\n",
    "# predict outliers\n",
    "outlier_predictions = iso_forest.predict(new_dfi[['Price']])\n",
    "\n",
    "# find the indexes of the outliers\n",
    "outlier_indexes = new_dfi[outlier_predictions == -1].index\n",
    "\n",
    "# recode the outliers to the mean of the data in the new DataFrame\n",
    "new_dfi.loc[outlier_indexes, 'Price'] = new_dfi['Price'].median()\n",
    "\n"
   ]
  },
  {
   "cell_type": "code",
   "execution_count": 44,
   "metadata": {},
   "outputs": [
    {
     "name": "stdout",
     "output_type": "stream",
     "text": [
      "Int64Index([  13,   15,   20,   41,   55,   56,   57,   66,   67,   82,\n",
      "            ...\n",
      "            5478, 5479, 5481, 5482, 5483, 5484, 5485, 5486, 5490, 5491],\n",
      "           dtype='int64', length=575)\n",
      "           Date      Price\n",
      "0    2000-08-23  32.049999\n",
      "1    2000-08-24  31.629999\n",
      "2    2000-08-25  32.049999\n",
      "3    2000-08-28  32.869999\n",
      "4    2000-08-29  32.720001\n",
      "...         ...        ...\n",
      "5746 2023-07-17  74.150002\n",
      "5747 2023-07-18  75.750000\n",
      "5748 2023-07-19  75.349998\n",
      "5749 2023-07-20  75.629997\n",
      "5750 2023-07-21  77.070000\n",
      "\n",
      "[5751 rows x 2 columns]\n"
     ]
    }
   ],
   "source": [
    "print(outlier_indexes)\n",
    "print(new_dfi)"
   ]
  },
  {
   "cell_type": "code",
   "execution_count": 51,
   "metadata": {},
   "outputs": [],
   "source": [
    "import pandas as pd\n",
    "from sklearn.neighbors import LocalOutlierFactor\n",
    "\n",
    "# create a copy of the original DataFrame\n",
    "new_dfl = df.copy()\n",
    "\n",
    "# create a LOF model\n",
    "lof = LocalOutlierFactor(n_neighbors=20, contamination=0.1)\n",
    "\n",
    "# fit the model to the 'Price' column\n",
    "lof.fit(new_dfl[['Price']])\n",
    "\n",
    "# predict outliers\n",
    "outlier_predictions = lof.fit_predict(new_dfl[['Price']])\n",
    "\n",
    "# find the indexes of the outliers\n",
    "outlier_indexes = new_dfl[outlier_predictions == -1].index\n",
    "\n",
    "# recode the outliers to the mean of the data in the new DataFrame\n",
    "new_dfl.loc[outlier_indexes, 'Price'] = new_dfl['Price'].median()\n"
   ]
  },
  {
   "cell_type": "code",
   "execution_count": 52,
   "metadata": {},
   "outputs": [
    {
     "name": "stdout",
     "output_type": "stream",
     "text": [
      "Int64Index([   5,    7,   21,   43,   50,   51,   53,  101,  109,  127,\n",
      "            ...\n",
      "            5578, 5586, 5600, 5629, 5648, 5681, 5704, 5716, 5718, 5723],\n",
      "           dtype='int64', length=575)\n"
     ]
    }
   ],
   "source": [
    "print(outlier_indexes)"
   ]
  }
 ],
 "metadata": {
  "kernelspec": {
   "display_name": "Python 3",
   "language": "python",
   "name": "python3"
  },
  "language_info": {
   "codemirror_mode": {
    "name": "ipython",
    "version": 3
   },
   "file_extension": ".py",
   "mimetype": "text/x-python",
   "name": "python",
   "nbconvert_exporter": "python",
   "pygments_lexer": "ipython3",
   "version": "3.11.4"
  },
  "orig_nbformat": 4
 },
 "nbformat": 4,
 "nbformat_minor": 2
}
