{
 "cells": [
  {
   "cell_type": "code",
   "execution_count": 4,
   "metadata": {},
   "outputs": [],
   "source": [
    "import pandas as pd\n",
    "\n",
    "# Load the first dataset\n",
    "df1 = pd.read_csv('E:\\Excelr-P269-Internship-Project-Group2-OIl-Price-Prediction-And-Forecasting-Using-Python\\Dataset\\BrentOilPrices.csv')\n",
    "\n",
    "# Load the second dataset\n",
    "df2 = pd.read_csv('E:\\Excelr-P269-Internship-Project-Group2-OIl-Price-Prediction-And-Forecasting-Using-Python\\Dataset\\oil_prices_yahoo1.csv')\n",
    "\n",
    "# renaming the column to price\n",
    "df2.rename(columns = {'Close':'Price'}, inplace = True)\n",
    "\n",
    "# Concatenate the two datasets\n",
    "result = pd.concat([df1, df2]).drop_duplicates(subset=['Date'], keep='first')\n",
    "\n",
    "# Save the result to a new CSV file\n",
    "result.to_csv('E:\\Excelr-P269-Internship-Project-Group2-OIl-Price-Prediction-And-Forecasting-Using-Python\\Dataset\\Oil_Prices.csv', index=False)\n"
   ]
  },
  {
   "cell_type": "code",
   "execution_count": 7,
   "metadata": {},
   "outputs": [],
   "source": [
    "df = pd.read_csv('E:\\Excelr-P269-Internship-Project-Group2-OIl-Price-Prediction-And-Forecasting-Using-Python\\Dataset\\Oil_Prices.csv')"
   ]
  },
  {
   "cell_type": "code",
   "execution_count": 8,
   "metadata": {},
   "outputs": [
    {
     "name": "stdout",
     "output_type": "stream",
     "text": [
      "<class 'pandas.core.frame.DataFrame'>\n",
      "RangeIndex: 14762 entries, 0 to 14761\n",
      "Data columns (total 2 columns):\n",
      " #   Column  Non-Null Count  Dtype  \n",
      "---  ------  --------------  -----  \n",
      " 0   Date    14762 non-null  object \n",
      " 1   Price   14762 non-null  float64\n",
      "dtypes: float64(1), object(1)\n",
      "memory usage: 230.8+ KB\n"
     ]
    }
   ],
   "source": [
    "df.info()"
   ]
  },
  {
   "cell_type": "code",
   "execution_count": 9,
   "metadata": {},
   "outputs": [
    {
     "name": "stderr",
     "output_type": "stream",
     "text": [
      "C:\\Users\\nazee\\AppData\\Local\\Temp\\ipykernel_16148\\2444377644.py:31: FutureWarning: Not prepending group keys to the result index of transform-like apply. In the future, the group keys will be included in the index, regardless of whether the applied function returns a like-indexed object.\n",
      "To preserve the previous behavior, use\n",
      "\n",
      "\t>>> .groupby(..., group_keys=False)\n",
      "\n",
      "To adopt the future behavior and silence this warning, use \n",
      "\n",
      "\t>>> .groupby(..., group_keys=True)\n",
      "  df['Price'] = grouped['Price'].apply(recode_outliers)\n"
     ]
    }
   ],
   "source": [
    "# Convert the 'Date' column to a datetime object\n",
    "df['Date'] = pd.to_datetime(df['Date'])\n",
    "\n",
    "# Extract the year from the 'Date' column and create a new column 'Year'\n",
    "df['Year'] = df['Date'].dt.year\n",
    "\n",
    "# Group the data by year\n",
    "grouped = df.groupby('Year')\n",
    "\n",
    "# Define a function to calculate the upper and lower fences for each group\n",
    "def iqr_fence(x):\n",
    "    Q1 = x.quantile(0.25)\n",
    "    Q3 = x.quantile(0.75)\n",
    "    IQR = Q3 - Q1\n",
    "    Lower_Fence = Q1 - (1.5 * IQR)\n",
    "    Upper_Fence = Q3 + (1.5 * IQR)\n",
    "    return Lower_Fence, Upper_Fence\n",
    "\n",
    "# Apply the function to each group to calculate the upper and lower fences\n",
    "fences = grouped['Price'].apply(iqr_fence)\n",
    "\n",
    "# Define a function to recode the outliers in each group\n",
    "def recode_outliers(x):\n",
    "    year = x.name\n",
    "    lower_fence, upper_fence = fences.loc[year]\n",
    "    x[x < lower_fence] = lower_fence\n",
    "    x[x > upper_fence] = upper_fence\n",
    "    return x\n",
    "\n",
    "# Apply the function to each group to recode the outliers\n",
    "df['Price'] = grouped['Price'].apply(recode_outliers)\n",
    "\n",
    "# Save the resulting DataFrame to a new CSV file\n",
    "df.to_csv('E:\\Excelr-P269-Internship-Project-Group2-OIl-Price-Prediction-And-Forecasting-Using-Python\\Dataset\\Cleaned_Oil_Price.csv', index=False)\n"
   ]
  }
 ],
 "metadata": {
  "kernelspec": {
   "display_name": "Python 3",
   "language": "python",
   "name": "python3"
  },
  "language_info": {
   "codemirror_mode": {
    "name": "ipython",
    "version": 3
   },
   "file_extension": ".py",
   "mimetype": "text/x-python",
   "name": "python",
   "nbconvert_exporter": "python",
   "pygments_lexer": "ipython3",
   "version": "3.11.4"
  },
  "orig_nbformat": 4
 },
 "nbformat": 4,
 "nbformat_minor": 2
}
