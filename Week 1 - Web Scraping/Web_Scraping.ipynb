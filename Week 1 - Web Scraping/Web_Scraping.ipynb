{
 "cells": [
  {
   "cell_type": "code",
   "execution_count": 4,
   "metadata": {},
   "outputs": [
    {
     "name": "stdout",
     "output_type": "stream",
     "text": [
      "Table not found on the webpage.\n"
     ]
    }
   ],
   "source": [
    "import requests\n",
    "import pandas as pd\n",
    "from bs4 import BeautifulSoup\n",
    "\n",
    "def scrape_crude_oil_data(url):\n",
    "    headers = {\n",
    "        'User-Agent': 'Mozilla/5.0 (Windows NT 10.0; Win64; x64) AppleWebKit/537.36 (KHTML, like Gecko) Chrome/58.0.3029.110 Safari/537.3'\n",
    "    }\n",
    "    \n",
    "    response = requests.get(url, headers=headers)\n",
    "    if response.status_code != 200:\n",
    "        print(\"Failed to fetch the webpage. Status code:\", response.status_code)\n",
    "        return None\n",
    "    \n",
    "    soup = BeautifulSoup(response.content, 'html.parser')\n",
    "    table = soup.find('table', {'class': 'genTbl closedTbl historicalTbl'})\n",
    "    if not table:\n",
    "        print(\"Table not found on the webpage.\")\n",
    "        return None\n",
    "    \n",
    "    # Extract table data into a list of dictionaries\n",
    "    data = []\n",
    "    headers = table.find('thead').find_all('th')\n",
    "    header_names = [header.text.strip() for header in headers]\n",
    "    \n",
    "    rows = table.find('tbody').find_all('tr')\n",
    "    for row in rows:\n",
    "        cols = row.find_all('td')\n",
    "        row_data = [col.text.strip() for col in cols]\n",
    "        data.append(dict(zip(header_names, row_data)))\n",
    "    \n",
    "    return data\n",
    "\n",
    "def save_to_csv(data, filename):\n",
    "    if not data:\n",
    "        print(\"No data to save.\")\n",
    "        return\n",
    "    \n",
    "    df = pd.DataFrame(data)\n",
    "    df.to_csv(filename, index=False)\n",
    "    print(\"Data successfully saved to\", filename)\n",
    "\n",
    "if __name__ == \"__main__\":\n",
    "    url = \"https://data.worldbank.org/indicator/EP.PMP.SGAS.CD\"\n",
    "    filename = \"crude_oil_prices.csv\"\n",
    "    \n",
    "    scraped_data = scrape_crude_oil_data(url)\n",
    "    if scraped_data:\n",
    "        save_to_csv(scraped_data, filename)\n"
   ]
  },
  {
   "cell_type": "code",
   "execution_count": 2,
   "metadata": {},
   "outputs": [
    {
     "name": "stdout",
     "output_type": "stream",
     "text": [
      "Failed to fetch the webpage. Status code: 403\n"
     ]
    }
   ],
   "source": [
    "import time\n",
    "import pandas as pd\n",
    "import requests\n",
    "from bs4 import BeautifulSoup\n",
    "\n",
    "def scrape_crude_oil_data(url):\n",
    "    headers = {\n",
    "        'User-Agent': 'Mozilla/5.0 (Windows NT 10.0; Win64; x64) AppleWebKit/537.36 (KHTML, like Gecko) Chrome/58.0.3029.110 Safari/537.3'\n",
    "    }\n",
    "    \n",
    "    response = requests.get(url, headers=headers)\n",
    "    if response.status_code != 200:\n",
    "        print(\"Failed to fetch the webpage. Status code:\", response.status_code)\n",
    "        return None\n",
    "    \n",
    "    soup = BeautifulSoup(response.content, 'html.parser')\n",
    "    table = soup.find('table', {'class': 'genTbl closedTbl historicalTbl'})\n",
    "    if not table:\n",
    "        print(\"Table not found on the webpage.\")\n",
    "        return None\n",
    "    \n",
    "    # Extract table data into a list of dictionaries\n",
    "    data = []\n",
    "    headers = table.find('thead').find_all('th')\n",
    "    header_names = [header.text.strip() for header in headers]\n",
    "    \n",
    "    rows = table.find('tbody').find_all('tr')\n",
    "    for row in rows:\n",
    "        cols = row.find_all('td')\n",
    "        row_data = [col.text.strip() for col in cols]\n",
    "        data.append(dict(zip(header_names, row_data)))\n",
    "    \n",
    "    return data\n",
    "\n",
    "def save_to_csv(data, filename):\n",
    "    if not data:\n",
    "        print(\"No data to save.\")\n",
    "        return\n",
    "    \n",
    "    df = pd.DataFrame(data)\n",
    "    df.to_csv(filename, index=False)\n",
    "    print(\"Data successfully saved to\", filename)\n",
    "\n",
    "if __name__ == \"__main__\":\n",
    "    url = \"https://in.investing.com/commodities/crude-oil-historical-data\"\n",
    "    filename = \"crude_oil_prices.csv\"\n",
    "    \n",
    "    scraped_data = scrape_crude_oil_data(url)\n",
    "    if scraped_data:\n",
    "        save_to_csv(scraped_data, filename)\n"
   ]
  },
  {
   "cell_type": "code",
   "execution_count": 3,
   "metadata": {},
   "outputs": [
    {
     "name": "stdout",
     "output_type": "stream",
     "text": [
      "Failed to fetch the webpage. Status code: 403\n"
     ]
    }
   ],
   "source": [
    "import requests\n",
    "from bs4 import BeautifulSoup\n",
    "\n",
    "def get_oil_price(url):\n",
    "    headers = {\n",
    "        'User-Agent': 'Mozilla/5.0 (Windows NT 10.0; Win64; x64) AppleWebKit/537.36 (KHTML, like Gecko) Chrome/58.0.3029.110 Safari/537.3'\n",
    "    }\n",
    "\n",
    "    response = requests.get(url, headers=headers)\n",
    "    if response.status_code != 200:\n",
    "        print(\"Failed to fetch the webpage. Status code:\", response.status_code)\n",
    "        return None\n",
    "\n",
    "    soup = BeautifulSoup(response.content, 'html.parser')\n",
    "    price_element = soup.find('span', {'id': 'last_last'})\n",
    "    if not price_element:\n",
    "        print(\"Failed to find the oil price on the webpage.\")\n",
    "        return None\n",
    "\n",
    "    return price_element.text.strip()\n",
    "\n",
    "if __name__ == \"__main__\":\n",
    "    url = \"https://www.investing.com/commodities/crude-oil\"\n",
    "    \n",
    "    oil_price = get_oil_price(url)\n",
    "    if oil_price:\n",
    "        print(\"The current price of oil is:\", oil_price)\n"
   ]
  },
  {
   "cell_type": "code",
   "execution_count": 5,
   "metadata": {},
   "outputs": [
    {
     "name": "stdout",
     "output_type": "stream",
     "text": [
      "[]\n"
     ]
    }
   ],
   "source": [
    "import requests\n",
    "from bs4 import BeautifulSoup\n",
    "\n",
    "def get_oil_prices(url):\n",
    "    headers = {\n",
    "        'User-Agent': 'Mozilla/5.0 (Windows NT 10.0; Win64; x64) AppleWebKit/537.36 (KHTML, like Gecko) Chrome/58.0.3029.110 Safari/537.3'\n",
    "    }\n",
    "\n",
    "    response = requests.get(url, headers=headers)\n",
    "    if response.status_code != 200:\n",
    "        print(\"Failed to fetch the webpage. Status code:\", response.status_code)\n",
    "        return None\n",
    "\n",
    "    soup = BeautifulSoup(response.content, 'html.parser')\n",
    "    oil_prices = []\n",
    "\n",
    "    price_elements = soup.find_all('span', {'class': 'value'})\n",
    "    for element in price_elements:\n",
    "        price = element.text.strip()\n",
    "        if 'Crude Oil' in element.get('title', ''):\n",
    "            oil_prices.append(price)\n",
    "\n",
    "    return oil_prices\n",
    "\n",
    "if __name__ == \"__main__\":\n",
    "    url = \"https://oilprice.com/\"\n",
    "    \n",
    "    oil_prices = get_oil_prices(url)\n",
    "    if oil_prices:\n",
    "        print(\"Oil Prices:\")\n",
    "        for i, price in enumerate(oil_prices, start=1):\n",
    "            print(f\"{i}. {price}\")\n",
    "print(oil_prices)"
   ]
  },
  {
   "cell_type": "code",
   "execution_count": 3,
   "metadata": {},
   "outputs": [
    {
     "name": "stdout",
     "output_type": "stream",
     "text": [
      "[]\n"
     ]
    }
   ],
   "source": [
    "import requests\n",
    "from bs4 import BeautifulSoup\n",
    "\n",
    "def get_oil_prices(url):\n",
    "    headers = {\n",
    "        'User-Agent': 'Mozilla/5.0 (Windows NT 10.0; Win64; x64) AppleWebKit/537.36 (KHTML, like Gecko) Chrome/58.0.3029.110 Safari/537.3'\n",
    "    }\n",
    "\n",
    "    response = requests.get(url, headers=headers)\n",
    "    if response.status_code != 200:\n",
    "        print(\"Failed to fetch the webpage. Status code:\", response.status_code)\n",
    "        return None\n",
    "\n",
    "    soup = BeautifulSoup(response.content, 'html.parser')\n",
    "    oil_prices = []\n",
    "\n",
    "    price_elements = soup.find_all('span', {'class': 'value'})\n",
    "    for element in price_elements:\n",
    "        price = element.text.strip()\n",
    "        if 'Crude oil import price' in element.get('title', ''):\n",
    "            oil_prices.append(price)\n",
    "\n",
    "    return oil_prices\n",
    "\n",
    "if __name__ == \"__main__\":\n",
    "    url = \"https://data.worldbank.org/indicator/EP.PMP.SGAS.CD\"\n",
    "    \n",
    "    oil_prices = get_oil_prices(url)\n",
    "    if oil_prices:\n",
    "        print(\"Oil Prices:\")\n",
    "        for i, price in enumerate(oil_prices, start=1):\n",
    "            print(f\"{i}. {price}\")\n",
    "\n",
    "print(oil_prices)\n"
   ]
  },
  {
   "cell_type": "code",
   "execution_count": 5,
   "metadata": {},
   "outputs": [
    {
     "name": "stdout",
     "output_type": "stream",
     "text": [
      "Table not found on the webpage.\n"
     ]
    }
   ],
   "source": [
    "import requests\n",
    "import pandas as pd\n",
    "from bs4 import BeautifulSoup\n",
    "\n",
    "def scrape_crude_oil_data(url):\n",
    "    headers = {\n",
    "        'User-Agent': 'Mozilla/5.0 (Windows NT 10.0; Win64; x64) AppleWebKit/537.36 (KHTML, like Gecko) Chrome/58.0.3029.110 Safari/537.3'\n",
    "    }\n",
    "\n",
    "    response = requests.get(url, headers=headers)\n",
    "    if response.status_code != 200:\n",
    "        print(\"Failed to fetch the webpage. Status code:\", response.status_code)\n",
    "        return None\n",
    "\n",
    "    soup = BeautifulSoup(response.content, 'html.parser')\n",
    "    data_table = soup.find('table', {'class': 'historical_data_table'})\n",
    "    if not data_table:\n",
    "        print(\"Table not found on the webpage.\")\n",
    "        return None\n",
    "\n",
    "    dates = []\n",
    "    prices = []\n",
    "    rows = data_table.find_all('tr')\n",
    "    for row in rows[1:]:  # Skip the header row\n",
    "        cols = row.find_all('td')\n",
    "        date = cols[0].text.strip()\n",
    "        price = cols[1].text.strip()\n",
    "        dates.append(date)\n",
    "        prices.append(price)\n",
    "\n",
    "    return {'Date': dates, 'Price': prices}\n",
    "\n",
    "def save_to_csv(data, filename):\n",
    "    if not data:\n",
    "        print(\"No data to save.\")\n",
    "        return\n",
    "\n",
    "    df = pd.DataFrame(data)\n",
    "    df.to_csv(filename, index=False)\n",
    "    print(\"Data successfully saved to\", filename)\n",
    "\n",
    "if __name__ == \"__main__\":\n",
    "    url = \"https://www.macrotrends.net/2516/wti-crude-oil-prices-10-year-daily-chart\"\n",
    "    filename = \"crude_oil_prices.csv\"\n",
    "\n",
    "    scraped_data = scrape_crude_oil_data(url)\n",
    "    if scraped_data:\n",
    "        save_to_csv(scraped_data, filename)\n"
   ]
  },
  {
   "cell_type": "code",
   "execution_count": 6,
   "metadata": {},
   "outputs": [
    {
     "name": "stdout",
     "output_type": "stream",
     "text": [
      "Error occurred: HTTP Error 403: Forbidden\n"
     ]
    }
   ],
   "source": [
    "import pandas as pd\n",
    "\n",
    "def save_to_csv(data, filename):\n",
    "    if not data:\n",
    "        print(\"No data to save.\")\n",
    "        return\n",
    "    \n",
    "    df = pd.DataFrame(data)\n",
    "    df.to_csv(filename, index=False)\n",
    "    print(\"Data successfully saved to\", filename)\n",
    "\n",
    "if __name__ == \"__main__\":\n",
    "    url = \"https://www.macrotrends.net/2516/wti-crude-oil-prices-10-year-daily-chart\"\n",
    "    filename = \"crude_oil_prices.csv\"\n",
    "\n",
    "    try:\n",
    "        # Read the data directly from the URL\n",
    "        data = pd.read_html(url)[0]\n",
    "\n",
    "        # Drop unnecessary columns\n",
    "        data.drop(['Open', 'High', 'Low', 'Vol.', 'Change %'], axis=1, inplace=True)\n",
    "\n",
    "        # Rename columns for clarity\n",
    "        data.columns = ['Date', 'Price']\n",
    "\n",
    "        # Save the data to a CSV file\n",
    "        save_to_csv(data, filename)\n",
    "    except Exception as e:\n",
    "        print(\"Error occurred:\", str(e))\n"
   ]
  },
  {
   "cell_type": "code",
   "execution_count": null,
   "metadata": {},
   "outputs": [],
   "source": []
  },
  {
   "cell_type": "code",
   "execution_count": null,
   "metadata": {},
   "outputs": [],
   "source": []
  },
  {
   "cell_type": "code",
   "execution_count": null,
   "metadata": {},
   "outputs": [],
   "source": []
  }
 ],
 "metadata": {
  "kernelspec": {
   "display_name": "Python 3",
   "language": "python",
   "name": "python3"
  },
  "language_info": {
   "codemirror_mode": {
    "name": "ipython",
    "version": 3
   },
   "file_extension": ".py",
   "mimetype": "text/x-python",
   "name": "python",
   "nbconvert_exporter": "python",
   "pygments_lexer": "ipython3",
   "version": "3.11.4"
  },
  "orig_nbformat": 4
 },
 "nbformat": 4,
 "nbformat_minor": 2
}
